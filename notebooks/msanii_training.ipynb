{
 "cells": [
  {
   "attachments": {},
   "cell_type": "markdown",
   "metadata": {},
   "source": [
    "# Msanii Training\n"
   ]
  },
  {
   "attachments": {},
   "cell_type": "markdown",
   "metadata": {},
   "source": [
    "## Setup\n"
   ]
  },
  {
   "cell_type": "code",
   "execution_count": null,
   "metadata": {},
   "outputs": [],
   "source": [
    "%pip install -q git+https://github.com/Kinyugo/msanii@main"
   ]
  },
  {
   "attachments": {},
   "cell_type": "markdown",
   "metadata": {},
   "source": [
    "## Training\n"
   ]
  },
  {
   "cell_type": "code",
   "execution_count": null,
   "metadata": {},
   "outputs": [],
   "source": [
    "import wandb\n",
    "from omegaconf import OmegaConf\n",
    "\n",
    "from msanii.config import TrainingConfig\n",
    "from msanii.scripts import run_training"
   ]
  },
  {
   "cell_type": "code",
   "execution_count": null,
   "metadata": {},
   "outputs": [],
   "source": [
    "config = {\n",
    "    \"vocoder\": {\n",
    "        \"datamodule\": {\n",
    "            \"data_dir\": \"<your-path-here>\",\n",
    "            \"batch_size\": 8,\n",
    "            \"n_frames\": 523_264,\n",
    "            \"sample_rate\": 44_100,\n",
    "            \"load_random_slice\": True,\n",
    "            \"n_workers\": 8,\n",
    "            \"pin_memory\": True,\n",
    "        },\n",
    "        \"transforms\": {\n",
    "            \"sample_rate\": 44_100,\n",
    "        },\n",
    "        \"lit_vocoder\": {\"sample_every_n_epochs\": 20},\n",
    "        \"trainer\": {\n",
    "            \"accumulate_grad_batches\": 1,\n",
    "            \"log_every_n_steps\": 20,\n",
    "            \"max_epochs\": 201,\n",
    "            \"precision\": 16,\n",
    "        },\n",
    "    },\n",
    "    \"diffusion\": {\n",
    "        \"datamodule\": {\n",
    "            \"data_dir\": \"<your-path-here>\",\n",
    "            \"batch_size\": 4,\n",
    "            \"n_frames\": 8_387_584,\n",
    "            \"sample_rate\": 44_100,\n",
    "            \"load_random_slice\": True,\n",
    "            \"n_workers\": 8,\n",
    "            \"pin_memory\": True,\n",
    "        },\n",
    "        \"transforms\": {\n",
    "            \"sample_rate\": 44_100,\n",
    "        },\n",
    "        \"lit_diffusion\": {\"sample_every_n_epochs\": 20},\n",
    "        \"trainer\": {\n",
    "            \"accumulate_grad_batches\": 1,\n",
    "            \"log_every_n_steps\": 20,\n",
    "            \"max_epochs\": 501,\n",
    "            \"precision\": 16,\n",
    "        },\n",
    "    },\n",
    "}"
   ]
  },
  {
   "cell_type": "code",
   "execution_count": null,
   "metadata": {},
   "outputs": [],
   "source": [
    "config = OmegaConf.create(config)\n",
    "config = OmegaConf.merge(config, TrainingConfig)"
   ]
  },
  {
   "cell_type": "code",
   "execution_count": null,
   "metadata": {},
   "outputs": [],
   "source": [
    "# Run this if not logged into wandb\n",
    "# wandb.login()"
   ]
  },
  {
   "cell_type": "code",
   "execution_count": null,
   "metadata": {},
   "outputs": [],
   "source": [
    "run_training(config)"
   ]
  }
 ],
 "metadata": {
  "kernelspec": {
   "display_name": "torch",
   "language": "python",
   "name": "python3"
  },
  "language_info": {
   "codemirror_mode": {
    "name": "ipython",
    "version": 3
   },
   "file_extension": ".py",
   "mimetype": "text/x-python",
   "name": "python",
   "nbconvert_exporter": "python",
   "pygments_lexer": "ipython3",
   "version": "3.10.5"
  },
  "orig_nbformat": 4,
  "vscode": {
   "interpreter": {
    "hash": "c339664639c3e5019e3803d0baff2aab4fdaac0204aae143f6ed0f1a6cb76161"
   }
  }
 },
 "nbformat": 4,
 "nbformat_minor": 2
}
